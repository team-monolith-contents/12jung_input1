{
 "cells": [
  {
   "cell_type": "markdown",
   "id": "66f603a2-10d3-4e77-b86e-73b8acfe0ed8",
   "metadata": {
    "deletable": false,
    "editable": false,
    "tags": []
   },
   "source": [
    "## **Input 함수 활용 방법**\n",
    "\n",
    "**파이썬은 사용자로부터 데이터를 입력받기 위해 `input()` 함수를 사용합니다.** \n",
    "* 입력된 값을 변수에 저장하기 위해서, `a = input()`과 같이 변수에 대입하여 사용할 수 있습니다.\n",
    "* 입력된 값의 형태는 문자열입니다. \n",
    "\n",
    "**`input` 함수 괄호 안에 입력한 내용을 프롬프트라고 합니다.**\n",
    "* 프롬프트 문자열을 출력창에 보여준 후 정보를 입력받을 수 있습니다."
   ]
  },
  {
   "cell_type": "markdown",
   "id": "c8846cb1-f59a-43fd-9ef3-5892673bd89d",
   "metadata": {
    "deletable": false,
    "editable": false
   },
   "source": [
    "#### **예제 1 : 이름 입력하고 출력해보기**\n"
   ]
  },
  {
   "cell_type": "code",
   "execution_count": null,
   "id": "7e7310e0-4e8c-4432-b64a-702f24bffac1",
   "metadata": {
    "tags": [
     "jce.problems.5.예제_1_이름_입력하고_출력해보기"
    ]
   },
   "outputs": [],
   "source": [
    "#예제_1_이름_입력하고_출력해보기\n",
    "\n",
    "name = input(\"이름을 입력하세요\")\n",
    "print(name)"
   ]
  },
  {
   "cell_type": "markdown",
   "id": "f7157307-016d-4d97-8f82-d8c329671f53",
   "metadata": {
    "deletable": false,
    "editable": false
   },
   "source": [
    "#### 예제 1 해설\n",
    ">`input(\"메시지\")` 코드를 실행하면 \"메시지\"가 출력되고 데이터를 입력받습니다.  \n",
    "입력받은 데이터를 `name` 이라는 변수에 대입합니다.  \n",
    "`print(name)`을 통해 `name` 안에 들어있는 변수를 출력합니다."
   ]
  },
  {
   "cell_type": "markdown",
   "id": "dd7288e4-841e-414b-894f-29045153f73d",
   "metadata": {
    "deletable": false,
    "editable": false
   },
   "source": [
    "### **💯 연습문제를 풀어봅시다**\n",
    "1. <a class=\"jcecodle-mk jcecodle-mk__problem-chip\" data-problem-id=\"180\" href='#jce-judge/open/180' target='_self'><span>입력과 출력 1</span></a>"
   ]
  }
 ],
 "metadata": {
  "kernelspec": {
   "display_name": "Python 3 (ipykernel)",
   "language": "python",
   "name": "python3"
  },
  "language_info": {
   "codemirror_mode": {
    "name": "ipython",
    "version": 3
   },
   "file_extension": ".py",
   "mimetype": "text/x-python",
   "name": "python",
   "nbconvert_exporter": "python",
   "pygments_lexer": "ipython3",
   "version": "3.10.13"
  },
  "read_only": true
 },
 "nbformat": 4,
 "nbformat_minor": 5
}
